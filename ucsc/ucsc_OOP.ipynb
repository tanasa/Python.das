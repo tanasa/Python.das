{
 "cells": [
  {
   "cell_type": "markdown",
   "metadata": {
    "id": "y7OtfxiA3D4t"
   },
   "source": [
    "\n",
    "### **Slide 1: Introduction to Python OOP**\n",
    "Python is an object-oriented programming language.\n",
    "\n",
    "Object-oriented programming (OOP) allows us to model real-world entities as objects.\n",
    "\n",
    "Objects have attributes (data) and methods (functions) to operate on the data.\n",
    "\n",
    "OOP concepts include encapsulation, inheritance, and operator overloading."
   ]
  },
  {
   "cell_type": "markdown",
   "metadata": {
    "id": "vwdeyc9b3LH9"
   },
   "source": [
    "### **Slide 2: Encapsulation**\n",
    "Encapsulation refers to the bundling of data (attributes) and methods together within a class.\n",
    "\n",
    "Encapsulation hides the internal implementation details and provides a public interface to interact with the object."
   ]
  },
  {
   "cell_type": "code",
   "execution_count": 2,
   "metadata": {
    "colab": {
     "base_uri": "https://localhost:8080/"
    },
    "executionInfo": {
     "elapsed": 146,
     "status": "ok",
     "timestamp": 1689715201815,
     "user": {
      "displayName": "Bineet Sharma",
      "userId": "07794773756347430626"
     },
     "user_tz": 420
    },
    "id": "RVReU5RZ3Ueb",
    "outputId": "cf70106d-ac34-4841-a39f-97f445a31969"
   },
   "outputs": [
    {
     "name": "stdout",
     "output_type": "stream",
     "text": [
      "Toyota\n",
      "Corolla\n"
     ]
    }
   ],
   "source": [
    "# Example of Encapsulation\n",
    "\n",
    "class Car:\n",
    "    def __init__(self, make, model):\n",
    "        self.__make = make\n",
    "        self.__model = model\n",
    "\n",
    "    def get_make(self):\n",
    "        return self.__make\n",
    "\n",
    "    def get_model(self):\n",
    "        return self.__model\n",
    "\n",
    "    def start_engine(self):\n",
    "        return \"Engine started.\"\n",
    "\n",
    "# Instantiate the Car object\n",
    "my_car = Car(\"Toyota\", \"Corolla\")\n",
    "\n",
    "# Accessing attributes using methods (encapsulation)\n",
    "print(my_car.get_make())   # Output: \"Toyota\"\n",
    "print(my_car.get_model())  # Output: \"Corolla\"\n",
    "\n",
    "# Cannot directly access private attributes\n",
    "# print(my_car.__make)  # Raises an AttributeError\n"
   ]
  },
  {
   "cell_type": "markdown",
   "metadata": {
    "id": "LAPP0ryc4AJ_"
   },
   "source": [
    "### **Slide 3: Inheritance**\n",
    "\n",
    "Inheritance allows a class (subclass) to inherit attributes and methods from another class (superclass).\n",
    "\n",
    "The subclass can extend or override the behavior of the superclass."
   ]
  },
  {
   "cell_type": "code",
   "execution_count": 3,
   "metadata": {
    "colab": {
     "base_uri": "https://localhost:8080/"
    },
    "executionInfo": {
     "elapsed": 140,
     "status": "ok",
     "timestamp": 1689715242559,
     "user": {
      "displayName": "Bineet Sharma",
      "userId": "07794773756347430626"
     },
     "user_tz": 420
    },
    "id": "PEMrs3is4FXV",
    "outputId": "403597e1-04ef-45b5-ef04-8cf0bdff8f2c"
   },
   "outputs": [
    {
     "name": "stdout",
     "output_type": "stream",
     "text": [
      "Dog barks.\n"
     ]
    }
   ],
   "source": [
    "# Example of Inheritance\n",
    "\n",
    "class Animal:\n",
    "    def speak(self):\n",
    "        return \"Animal speaks.\"\n",
    "\n",
    "class Dog(Animal):\n",
    "    def speak(self):\n",
    "        return \"Dog barks.\"\n",
    "\n",
    "# Instantiate the Dog object\n",
    "dog = Dog()\n",
    "\n",
    "# Access method from the superclass (inheritance)\n",
    "print(dog.speak())  # Output: \"Dog barks\"\n"
   ]
  },
  {
   "cell_type": "markdown",
   "metadata": {
    "id": "SKjJrKdR4Iwy"
   },
   "source": [
    "**Slide 4: Operator Overloading**\n",
    "\n",
    "Operator overloading allows us to define how operators behave for objects of a class.\n",
    "\n",
    "We can override built-in operators like +, -, *, /, ==, etc."
   ]
  },
  {
   "cell_type": "code",
   "execution_count": 4,
   "metadata": {
    "colab": {
     "base_uri": "https://localhost:8080/"
    },
    "executionInfo": {
     "elapsed": 164,
     "status": "ok",
     "timestamp": 1689715287873,
     "user": {
      "displayName": "Bineet Sharma",
      "userId": "07794773756347430626"
     },
     "user_tz": 420
    },
    "id": "FPVR52Su4QA4",
    "outputId": "00a10278-b2d2-462b-8d9d-7e234438a21d"
   },
   "outputs": [
    {
     "name": "stdout",
     "output_type": "stream",
     "text": [
      "(4, 6)\n"
     ]
    }
   ],
   "source": [
    "# Example of Operator Overloading\n",
    "\n",
    "class Point:\n",
    "    def __init__(self, x, y):\n",
    "        self.x = x\n",
    "        self.y = y\n",
    "\n",
    "    def __add__(self, other):\n",
    "        return Point(self.x + other.x, self.y + other.y)\n",
    "\n",
    "    def __str__(self):\n",
    "        return f\"({self.x}, {self.y})\"\n",
    "\n",
    "# Instantiate Point objects\n",
    "p1 = Point(1, 2)\n",
    "p2 = Point(3, 4)\n",
    "\n",
    "# Use the overloaded '+' operator\n",
    "p3 = p1 + p2\n",
    "print(p3)  # Output: \"(4, 6)\"\n"
   ]
  },
  {
   "cell_type": "markdown",
   "metadata": {
    "id": "p2cpS6wD4TiY"
   },
   "source": [
    "## **Slide 5: Practical Usage - Encapsulation**\n",
    "\n",
    "Use encapsulation to protect sensitive data from direct access.\n",
    "\n",
    "Prevent unintended modification of object attributes.\n",
    "\n",
    "Enhance code maintainability and reusability."
   ]
  },
  {
   "cell_type": "code",
   "execution_count": 5,
   "metadata": {
    "colab": {
     "base_uri": "https://localhost:8080/"
    },
    "executionInfo": {
     "elapsed": 170,
     "status": "ok",
     "timestamp": 1689715331102,
     "user": {
      "displayName": "Bineet Sharma",
      "userId": "07794773756347430626"
     },
     "user_tz": 420
    },
    "id": "jEiPER174aw5",
    "outputId": "eb3e2730-7e87-4793-9752-2500a67498c7"
   },
   "outputs": [
    {
     "name": "stdout",
     "output_type": "stream",
     "text": [
      "1234567890\n",
      "1000\n",
      "1500\n",
      "1300\n"
     ]
    }
   ],
   "source": [
    "# Practical Usage of Encapsulation\n",
    "\n",
    "class BankAccount:\n",
    "    def __init__(self, account_number, balance):\n",
    "        self.__account_number = account_number\n",
    "        self.__balance = balance\n",
    "\n",
    "    def get_account_number(self):\n",
    "        return self.__account_number\n",
    "\n",
    "    def get_balance(self):\n",
    "        return self.__balance\n",
    "\n",
    "    def deposit(self, amount):\n",
    "        self.__balance += amount\n",
    "\n",
    "    def withdraw(self, amount):\n",
    "        if amount <= self.__balance:\n",
    "            self.__balance -= amount\n",
    "            return True\n",
    "        return False\n",
    "\n",
    "# Usage\n",
    "account = BankAccount(\"1234567890\", 1000)\n",
    "\n",
    "print(account.get_account_number())  # Output: \"1234567890\"\n",
    "print(account.get_balance())  # Output: 1000\n",
    "\n",
    "account.deposit(500)\n",
    "print(account.get_balance())  # Output: 1500\n",
    "\n",
    "account.withdraw(200)\n",
    "print(account.get_balance())  # Output: 1300\n"
   ]
  },
  {
   "cell_type": "markdown",
   "metadata": {
    "id": "IX2W_VYK4d5q"
   },
   "source": [
    "### **Slide 6: Practical Usage - Inheritance**\n",
    "\n",
    "Use inheritance to create specialized classes that share common attributes and methods.\n",
    "\n",
    "Avoid code duplication and promote code reuse."
   ]
  },
  {
   "cell_type": "code",
   "execution_count": 6,
   "metadata": {
    "colab": {
     "base_uri": "https://localhost:8080/"
    },
    "executionInfo": {
     "elapsed": 169,
     "status": "ok",
     "timestamp": 1689715366863,
     "user": {
      "displayName": "Bineet Sharma",
      "userId": "07794773756347430626"
     },
     "user_tz": 420
    },
    "id": "KBi4zyMD4kCo",
    "outputId": "41ac2f3b-b6fe-4505-a689-fc936aed632c"
   },
   "outputs": [
    {
     "name": "stdout",
     "output_type": "stream",
     "text": [
      "78.5\n",
      "16\n"
     ]
    }
   ],
   "source": [
    "# Practical Usage of Inheritance\n",
    "\n",
    "class Shape:\n",
    "    def __init__(self, color):\n",
    "        self.color = color\n",
    "\n",
    "    def area(self):\n",
    "        pass  # To be implemented in subclasses\n",
    "\n",
    "class Circle(Shape):\n",
    "    def __init__(self, color, radius):\n",
    "        super().__init__(color)\n",
    "        self.radius = radius\n",
    "\n",
    "    def area(self):\n",
    "        return 3.14 * self.radius**2\n",
    "\n",
    "class Square(Shape):\n",
    "    def __init__(self, color, side_length):\n",
    "        super().__init__(color)\n",
    "        self.side_length = side_length\n",
    "\n",
    "    def area(self):\n",
    "        return self.side_length**2\n",
    "\n",
    "# Usage\n",
    "circle = Circle(\"Red\", 5)\n",
    "square = Square(\"Blue\", 4)\n",
    "\n",
    "print(circle.area())  # Output: 78.5\n",
    "print(square.area())  # Output: 16\n"
   ]
  },
  {
   "cell_type": "markdown",
   "metadata": {
    "id": "dHEh7_i84mXG"
   },
   "source": [
    "### **Slide 7: Practical Usage - Operator Overloading**\n",
    "Use operator overloading to enable custom behavior for built-in operators.\n",
    "\n",
    "Simplify object manipulation and arithmetic operations."
   ]
  },
  {
   "cell_type": "code",
   "execution_count": 7,
   "metadata": {
    "colab": {
     "base_uri": "https://localhost:8080/"
    },
    "executionInfo": {
     "elapsed": 148,
     "status": "ok",
     "timestamp": 1689715434708,
     "user": {
      "displayName": "Bineet Sharma",
      "userId": "07794773756347430626"
     },
     "user_tz": 420
    },
    "id": "AsQDPam640Lt",
    "outputId": "c47bc3b5-9d6f-4fc5-b01d-bd99ad132165"
   },
   "outputs": [
    {
     "name": "stdout",
     "output_type": "stream",
     "text": [
      "(4, 6)\n",
      "(-2, -2)\n"
     ]
    }
   ],
   "source": [
    "# Practical Usage of Operator Overloading\n",
    "\n",
    "class Vector:\n",
    "    def __init__(self, x, y):\n",
    "        self.x = x\n",
    "        self.y = y\n",
    "\n",
    "    def __add__(self, other):\n",
    "        return Vector(self.x + other.x, self.y + other.y)\n",
    "\n",
    "    def __sub__(self, other):\n",
    "        return Vector(self.x - other.x, self.y - other.y)\n",
    "\n",
    "    def __str__(self):\n",
    "        return f\"({self.x}, {self.y})\"\n",
    "\n",
    "# Usage\n",
    "v1 = Vector(1, 2)\n",
    "v2 = Vector(3, 4)\n",
    "\n",
    "v3 = v1 + v2\n",
    "v4 = v1 - v2\n",
    "\n",
    "print(v3)  # Output: \"(4, 6)\"\n",
    "print(v4)  # Output: \"(-2, -2)\"\n"
   ]
  },
  {
   "cell_type": "markdown",
   "metadata": {
    "id": "s1XDrBac43Au"
   },
   "source": [
    "### **Slide 8: Polymorphism**\n",
    "\n",
    "Polymorphism allows objects of different classes to be treated as if they were objects of a common superclass.\n",
    "\n",
    "It enables code to work with objects of multiple types without knowing their specific types."
   ]
  },
  {
   "cell_type": "code",
   "execution_count": 8,
   "metadata": {
    "colab": {
     "base_uri": "https://localhost:8080/"
    },
    "executionInfo": {
     "elapsed": 158,
     "status": "ok",
     "timestamp": 1689715473984,
     "user": {
      "displayName": "Bineet Sharma",
      "userId": "07794773756347430626"
     },
     "user_tz": 420
    },
    "id": "_Fluwzk_497a",
    "outputId": "82c18260-d052-4c6e-ab2d-504d83cc2070"
   },
   "outputs": [
    {
     "name": "stdout",
     "output_type": "stream",
     "text": [
      "Dog barks.\n",
      "Cat meows.\n"
     ]
    }
   ],
   "source": [
    "# Example of Polymorphism\n",
    "\n",
    "class Animal:\n",
    "    def speak(self):\n",
    "        return \"Animal speaks.\"\n",
    "\n",
    "class Dog(Animal):\n",
    "    def speak(self):\n",
    "        return \"Dog barks.\"\n",
    "\n",
    "class Cat(Animal):\n",
    "    def speak(self):\n",
    "        return \"Cat meows.\"\n",
    "\n",
    "def animal_sound(animal):\n",
    "    return animal.speak()\n",
    "\n",
    "# Usage\n",
    "dog = Dog()\n",
    "cat = Cat()\n",
    "\n",
    "print(animal_sound(dog))  # Output: \"Dog barks\"\n",
    "print(animal_sound(cat))  # Output: \"Cat meows\"\n"
   ]
  },
  {
   "cell_type": "markdown",
   "metadata": {
    "id": "029x0m-u5BXN"
   },
   "source": [
    "### **Slide 9: Class Methods and Static Methods**\n",
    "Class methods are bound to the class and can access class-level attributes.\n",
    "\n",
    "Static methods don't require access to instance or class attributes and are used for utility functions.\n",
    "\n",
    "### **What Makes a Method Static?**\n",
    "\n",
    "**No Access to Instance or Class**: A static method does not receive an implicit first argument, such as self for instance methods or cls for class methods. This means static methods cannot modify object state or class state.\n",
    "\n",
    "**Utility Function**: Static methods are typically utility functions that perform a task in isolation, without needing access to the class or its instances.\n",
    "\n",
    "**Defined with @staticmethod**: You use the @staticmethod decorator to define a static method.\n"
   ]
  },
  {
   "cell_type": "code",
   "execution_count": null,
   "metadata": {
    "colab": {
     "base_uri": "https://localhost:8080/"
    },
    "executionInfo": {
     "elapsed": 145,
     "status": "ok",
     "timestamp": 1689715519204,
     "user": {
      "displayName": "Bineet Sharma",
      "userId": "07794773756347430626"
     },
     "user_tz": 420
    },
    "id": "Y1UX8y9U5Izh",
    "outputId": "6937d14d-90ca-4959-9857-47305d338cdf"
   },
   "outputs": [
    {
     "name": "stdout",
     "output_type": "stream",
     "text": [
      "78.5\n",
      "7\n"
     ]
    }
   ],
   "source": [
    "# Example of Class Methods and Static Methods\n",
    "\n",
    "class MathOperations:\n",
    "    pi = 3.14\n",
    "\n",
    "    @classmethod\n",
    "    def circle_area(cls, radius):\n",
    "        return cls.pi * radius**2\n",
    "\n",
    "    @staticmethod\n",
    "    def add(x, y):\n",
    "        return x + y\n",
    "\n",
    "# Usage\n",
    "print(MathOperations.circle_area(5))  # Output: 78.5\n",
    "print(MathOperations.add(3, 4))  # Output: 7\n"
   ]
  },
  {
   "cell_type": "markdown",
   "metadata": {
    "id": "_IcImzAD5LlK"
   },
   "source": [
    "**Slide 10: Practical Usage - Polymorphism**\n",
    "\n",
    "Use polymorphism to create flexible and generic code.\n",
    "\n",
    "Allow different objects to share a common interface and interact with them interchangeably.\n",
    "\n",
    "In summary, the code demonstrates polymorphism through the move function, which can operate on any object that implements the required methods (fly, swim, or jump). This dynamic method resolution allows different classes (Bird, Fish, Frog) to be used interchangeably with the move function, highlighting the concept of polymorphism."
   ]
  },
  {
   "cell_type": "code",
   "execution_count": 1,
   "metadata": {
    "colab": {
     "base_uri": "https://localhost:8080/"
    },
    "executionInfo": {
     "elapsed": 12,
     "status": "ok",
     "timestamp": 1721074256178,
     "user": {
      "displayName": "Bineet Sharma",
      "userId": "07794773756347430626"
     },
     "user_tz": 420
    },
    "id": "a4AamkgM5UbC",
    "outputId": "b10ae0b7-19ad-4761-e7b3-e52640b228b1"
   },
   "outputs": [
    {
     "name": "stdout",
     "output_type": "stream",
     "text": [
      "Bird flies.\n",
      "Fish swims.\n",
      "Frog jumps.\n"
     ]
    }
   ],
   "source": [
    "# Practical Usage of Polymorphism\n",
    "\n",
    "class Bird:\n",
    "    def fly(self):\n",
    "        return \"Bird flies.\"\n",
    "\n",
    "class Fish:\n",
    "    def swim(self):\n",
    "        return \"Fish swims.\"\n",
    "\n",
    "class Frog:\n",
    "    def jump(self):\n",
    "        return \"Frog jumps.\"\n",
    "\n",
    "def move(animal):\n",
    "    if hasattr(animal, 'fly'):\n",
    "        return animal.fly()\n",
    "    elif hasattr(animal, 'swim'):\n",
    "        return animal.swim()\n",
    "    elif hasattr(animal, 'jump'):\n",
    "        return animal.jump()\n",
    "    else:\n",
    "        return \"Unknown movement.\"\n",
    "\n",
    "# Usage\n",
    "bird = Bird()\n",
    "fish = Fish()\n",
    "frog = Frog()\n",
    "\n",
    "print(move(bird))  # Output: \"Bird flies.\"\n",
    "print(move(fish))  # Output: \"Fish swims.\"\n",
    "print(move(frog))  # Output: \"Frog jumps.\"\n"
   ]
  },
  {
   "cell_type": "markdown",
   "metadata": {
    "id": "KgaS_q4b5XKy"
   },
   "source": [
    "### **Slide 11: Practical Usage - Class Methods and Static Methods**\n",
    "\n",
    "Use class methods to work with class-level attributes and perform operations related to the class itself.\n",
    "\n",
    "Use static methods for utility functions that don't require access to instance or class attributes."
   ]
  },
  {
   "cell_type": "code",
   "execution_count": null,
   "metadata": {
    "colab": {
     "base_uri": "https://localhost:8080/"
    },
    "executionInfo": {
     "elapsed": 142,
     "status": "ok",
     "timestamp": 1689715607839,
     "user": {
      "displayName": "Bineet Sharma",
      "userId": "07794773756347430626"
     },
     "user_tz": 420
    },
    "id": "2eAodoqA5eis",
    "outputId": "7bae873b-14e1-488e-e167-33e3f0a1d8e8"
   },
   "outputs": [
    {
     "name": "stdout",
     "output_type": "stream",
     "text": [
      "5\n",
      "True\n"
     ]
    }
   ],
   "source": [
    "# Practical Usage of Class Methods and Static Methods\n",
    "\n",
    "class StringUtils:\n",
    "    @classmethod\n",
    "    def count_words(cls, text):\n",
    "        words = text.split()\n",
    "        return len(words)\n",
    "\n",
    "    @staticmethod\n",
    "    def is_palindrome(word):\n",
    "        return word == word[::-1]\n",
    "\n",
    "# Usage\n",
    "text = \"Hello there, how are you?\"\n",
    "word = \"radar\"\n",
    "\n",
    "print(StringUtils.count_words(text))  # Output: 6\n",
    "print(StringUtils.is_palindrome(word))  # Output: True\n"
   ]
  },
  {
   "cell_type": "markdown",
   "metadata": {
    "id": "htE9hhUQ5omK"
   },
   "source": [
    "### **Slide 12: Practical Usage - Operator Overloading in Real-life**\n",
    "\n",
    "Use operator overloading to customize the behavior of objects in real-life applications.\n",
    "\n",
    "Example: Vector addition and subtraction in 2D games."
   ]
  },
  {
   "cell_type": "code",
   "execution_count": null,
   "metadata": {
    "colab": {
     "base_uri": "https://localhost:8080/"
    },
    "executionInfo": {
     "elapsed": 153,
     "status": "ok",
     "timestamp": 1689715681943,
     "user": {
      "displayName": "Bineet Sharma",
      "userId": "07794773756347430626"
     },
     "user_tz": 420
    },
    "id": "kBSLtvSX5xtj",
    "outputId": "6edb9e89-da17-4218-b428-0cd2a1077ed4"
   },
   "outputs": [
    {
     "name": "stdout",
     "output_type": "stream",
     "text": [
      "(15, 30)\n",
      "(3, -5)\n"
     ]
    }
   ],
   "source": [
    "# Practical Usage of Operator Overloading in 2D Games\n",
    "\n",
    "class Vector2D:\n",
    "    def __init__(self, x, y):\n",
    "        self.x = x\n",
    "        self.y = y\n",
    "\n",
    "    def __add__(self, other):\n",
    "        return Vector2D(self.x + other.x, self.y + other.y)\n",
    "\n",
    "    def __sub__(self, other):\n",
    "        return Vector2D(self.x - other.x, self.y - other.y)\n",
    "\n",
    "    def __str__(self):\n",
    "        return f\"({self.x}, {self.y})\"\n",
    "\n",
    "# Usage in a 2D game\n",
    "player_position = Vector2D(10, 20)\n",
    "movement_vector = Vector2D(5, 10)\n",
    "\n",
    "new_position = player_position + movement_vector\n",
    "print(new_position)  # Output: \"(15, 30)\"\n",
    "\n",
    "# Enemy position\n",
    "enemy_position = Vector2D(7, 25)\n",
    "\n",
    "distance = player_position - enemy_position\n",
    "print(distance)  # Output: \"(3, -5)\"\n"
   ]
  },
  {
   "cell_type": "markdown",
   "metadata": {
    "id": "V50iGcFP558W"
   },
   "source": [
    "### **Slide 13: Practical Usage - Encapsulation in Real-life**\n",
    "Use encapsulation to model real-world entities and protect sensitive data.\n",
    "\n",
    "Example: Building a secure user authentication system."
   ]
  },
  {
   "cell_type": "code",
   "execution_count": null,
   "metadata": {
    "colab": {
     "base_uri": "https://localhost:8080/"
    },
    "executionInfo": {
     "elapsed": 153,
     "status": "ok",
     "timestamp": 1689715743934,
     "user": {
      "displayName": "Bineet Sharma",
      "userId": "07794773756347430626"
     },
     "user_tz": 420
    },
    "id": "v5gJ9_BJ5_g2",
    "outputId": "8c2f5660-5515-4cda-cae1-2b92b1861e9e"
   },
   "outputs": [
    {
     "name": "stdout",
     "output_type": "stream",
     "text": [
      "True\n",
      "False\n",
      "True\n"
     ]
    }
   ],
   "source": [
    "# Practical Usage of Encapsulation in User Authentication\n",
    "\n",
    "class User:\n",
    "    def __init__(self, username, password):\n",
    "        self.__username = username\n",
    "        self.__password = password\n",
    "\n",
    "    def verify_password(self, password_attempt):\n",
    "        return self.__password == password_attempt\n",
    "\n",
    "    def change_password(self, new_password):\n",
    "        self.__password = new_password\n",
    "\n",
    "# Usage in an authentication system\n",
    "user = User(\"john_doe\", \"pass123\")\n",
    "\n",
    "# Attempt to verify password\n",
    "print(user.verify_password(\"pass123\"))  # Output: True\n",
    "print(user.verify_password(\"wrong_pass\"))  # Output: False\n",
    "\n",
    "# Change password\n",
    "user.change_password(\"new_pass321\")\n",
    "print(user.verify_password(\"new_pass321\"))  # Output: True\n"
   ]
  },
  {
   "cell_type": "markdown",
   "metadata": {
    "id": "YbBvGw9C6ChS"
   },
   "source": [
    "\n",
    "### **Slide 14: Practical Usage - Inheritance in Real-life**\n",
    "\n",
    "Use inheritance to model hierarchical relationships between real-world entities.\n",
    "\n",
    "Example: Creating different types of employees in a company."
   ]
  },
  {
   "cell_type": "code",
   "execution_count": 9,
   "metadata": {
    "colab": {
     "base_uri": "https://localhost:8080/"
    },
    "executionInfo": {
     "elapsed": 190,
     "status": "ok",
     "timestamp": 1689715919065,
     "user": {
      "displayName": "Bineet Sharma",
      "userId": "07794773756347430626"
     },
     "user_tz": 420
    },
    "id": "VFsX4Eis6rh1",
    "outputId": "349c3093-712e-4b8b-f9af-4d3378c0ed29"
   },
   "outputs": [
    {
     "name": "stdout",
     "output_type": "stream",
     "text": [
      "5000\n",
      "1200\n"
     ]
    }
   ],
   "source": [
    "# Practical Usage of Inheritance in a Company\n",
    "\n",
    "class Employee:\n",
    "    def __init__(self, name, employee_id):\n",
    "        self.name = name\n",
    "        self.employee_id = employee_id\n",
    "\n",
    "    def calculate_salary(self):\n",
    "        return 0  # To be implemented in subclasses\n",
    "\n",
    "class FullTimeEmployee(Employee):\n",
    "    def calculate_salary(self):\n",
    "        return 5000  # Fixed salary for full-time employees\n",
    "\n",
    "class PartTimeEmployee(Employee):\n",
    "    def __init__(self, name, employee_id, hours_worked):\n",
    "        super().__init__(name, employee_id)\n",
    "        self.hours_worked = hours_worked\n",
    "\n",
    "    def calculate_salary(self):\n",
    "        return self.hours_worked * 15  # Hourly wage for part-time employees\n",
    "\n",
    "# Usage in a company\n",
    "full_time_employee = FullTimeEmployee(\"John Doe\", \"FT123\")\n",
    "part_time_employee = PartTimeEmployee(\"Jane Smith\", \"PT456\", 80)\n",
    "\n",
    "print(full_time_employee.calculate_salary())  # Output: 5000\n",
    "print(part_time_employee.calculate_salary())  # Output: 1200\n"
   ]
  },
  {
   "cell_type": "markdown",
   "metadata": {
    "id": "UUce5HR28bKo"
   },
   "source": [
    "### **Slide 15: Practical Usage - Polymorphism in Real-life**\n",
    "\n",
    "Use polymorphism to create flexible and extensible code in real-world applications.\n",
    "\n",
    "Example: Developing a plugin system for a text editor."
   ]
  },
  {
   "cell_type": "code",
   "execution_count": 10,
   "metadata": {
    "colab": {
     "base_uri": "https://localhost:8080/"
    },
    "executionInfo": {
     "elapsed": 189,
     "status": "ok",
     "timestamp": 1689716426457,
     "user": {
      "displayName": "Bineet Sharma",
      "userId": "07794773756347430626"
     },
     "user_tz": 420
    },
    "id": "HM75R3FG8nqX",
    "outputId": "baa11cbf-2c7c-4bd3-f1a2-91e743cce04d"
   },
   "outputs": [
    {
     "name": "stdout",
     "output_type": "stream",
     "text": [
      "Running spell check...\n",
      "Providing auto-complete suggestions...\n"
     ]
    }
   ],
   "source": [
    "# Practical Usage of Polymorphism in a Text Editor Plugin System\n",
    "\n",
    "class TextEditorPlugin:\n",
    "    def execute(self):\n",
    "        raise NotImplementedError(\"Subclasses must implement execute() method.\")\n",
    "\n",
    "class SpellCheckPlugin(TextEditorPlugin):\n",
    "    def execute(self):\n",
    "        print(\"Running spell check...\")\n",
    "\n",
    "class AutoCompletePlugin(TextEditorPlugin):\n",
    "    def execute(self):\n",
    "        print(\"Providing auto-complete suggestions...\")\n",
    "\n",
    "# Usage in a text editor\n",
    "plugins = [SpellCheckPlugin(), AutoCompletePlugin()]\n",
    "\n",
    "for plugin in plugins:\n",
    "    plugin.execute()\n"
   ]
  },
  {
   "cell_type": "markdown",
   "metadata": {
    "id": "m3_Z_YpL8s1s"
   },
   "source": [
    "### **Slide 16: Practical Usage - Class Methods and Static Methods in Real-life**\n",
    "\n",
    "Use class methods and static methods in real-world scenarios for enhanced code organization.\n",
    "\n",
    "Example: Building a utility class for data validation."
   ]
  },
  {
   "cell_type": "code",
   "execution_count": 11,
   "metadata": {
    "colab": {
     "base_uri": "https://localhost:8080/"
    },
    "executionInfo": {
     "elapsed": 153,
     "status": "ok",
     "timestamp": 1689716483357,
     "user": {
      "displayName": "Bineet Sharma",
      "userId": "07794773756347430626"
     },
     "user_tz": 420
    },
    "id": "trMxNgIC80hC",
    "outputId": "bf41b922-7b62-44d0-e093-5942794105d2"
   },
   "outputs": [
    {
     "name": "stdout",
     "output_type": "stream",
     "text": [
      "True\n",
      "True\n"
     ]
    }
   ],
   "source": [
    "# Practical Usage of Class Methods and Static Methods in Data Validation\n",
    "\n",
    "class DataValidator:\n",
    "    @staticmethod\n",
    "    def is_valid_email(email):\n",
    "        return \"@\" in email\n",
    "\n",
    "    @classmethod\n",
    "    def is_valid_username(cls, username):\n",
    "        return len(username) >= 5 and not username.isdigit()\n",
    "\n",
    "# Usage in a registration form\n",
    "email = \"john.doe@example.com\"\n",
    "username = \"johndoe123\"\n",
    "\n",
    "print(DataValidator.is_valid_email(email))  # Output: True\n",
    "print(DataValidator.is_valid_username(username))  # Output: True\n"
   ]
  },
  {
   "cell_type": "markdown",
   "metadata": {
    "id": "D6hseuik83HL"
   },
   "source": [
    "### **Slide 17: Practical Usage - Operator Overloading in Real-life II**\n",
    "\n",
    "Continue exploring real-life examples of operator overloading.\n",
    "\n",
    "Example: Implementing custom matrix addition and subtraction."
   ]
  },
  {
   "cell_type": "code",
   "execution_count": null,
   "metadata": {
    "colab": {
     "base_uri": "https://localhost:8080/"
    },
    "executionInfo": {
     "elapsed": 170,
     "status": "ok",
     "timestamp": 1689716525322,
     "user": {
      "displayName": "Bineet Sharma",
      "userId": "07794773756347430626"
     },
     "user_tz": 420
    },
    "id": "tIcPx3nf8_RD",
    "outputId": "ff6ccf92-6632-4e64-b889-bd6feaf862bf"
   },
   "outputs": [
    {
     "name": "stdout",
     "output_type": "stream",
     "text": [
      "6 8\n",
      "10 12\n",
      "-4 -4\n",
      "-4 -4\n"
     ]
    }
   ],
   "source": [
    "# Practical Usage of Operator Overloading in Matrix Operations\n",
    "\n",
    "class Matrix:\n",
    "    def __init__(self, data):\n",
    "        self.data = data\n",
    "\n",
    "    def __add__(self, other):\n",
    "        result = [[self.data[i][j] + other.data[i][j] for j in range(len(self.data[0]))] for i in range(len(self.data))]\n",
    "        return Matrix(result)\n",
    "\n",
    "    def __sub__(self, other):\n",
    "        result = [[self.data[i][j] - other.data[i][j] for j in range(len(self.data[0]))] for i in range(len(self.data))]\n",
    "        return Matrix(result)\n",
    "\n",
    "    def __str__(self):\n",
    "        return '\\n'.join([' '.join(map(str, row)) for row in self.data])\n",
    "\n",
    "# Usage for matrix addition and subtraction\n",
    "matrix_a = Matrix([[1, 2], [3, 4]])\n",
    "matrix_b = Matrix([[5, 6], [7, 8]])\n",
    "\n",
    "result_add = matrix_a + matrix_b\n",
    "result_sub = matrix_a - matrix_b\n",
    "\n",
    "print(result_add)\n",
    "# Output:\n",
    "# 6 8\n",
    "# 10 12\n",
    "\n",
    "print(result_sub)\n",
    "# Output:\n",
    "# -4 -4\n",
    "# -4 -4\n"
   ]
  },
  {
   "cell_type": "markdown",
   "metadata": {
    "id": "RdwF2k9O9cSo"
   },
   "source": [
    "### **Slide 18: Project Idea - Building a Simple Banking System**\n",
    "\n",
    "Create a project to simulate a basic banking system using OOP concepts.\n",
    "\n",
    "Classes: Bank, Account, Transaction, Customer, etc.\n",
    "\n",
    "Implement methods for account balance, deposits, withdrawals, and transaction history."
   ]
  }
 ],
 "metadata": {
  "colab": {
   "authorship_tag": "ABX9TyMFCBst5TM/5tJmchWuErGq",
   "provenance": []
  },
  "kernelspec": {
   "display_name": "Python 3",
   "language": "python",
   "name": "python3"
  },
  "language_info": {
   "codemirror_mode": {
    "name": "ipython",
    "version": 3
   },
   "file_extension": ".py",
   "mimetype": "text/x-python",
   "name": "python",
   "nbconvert_exporter": "python",
   "pygments_lexer": "ipython3",
   "version": "3.8.10"
  }
 },
 "nbformat": 4,
 "nbformat_minor": 1
}
