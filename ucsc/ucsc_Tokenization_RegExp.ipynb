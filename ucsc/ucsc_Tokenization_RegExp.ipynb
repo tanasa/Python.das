{
 "cells": [
  {
   "cell_type": "markdown",
   "metadata": {
    "id": "Mpci6mqv5ACa"
   },
   "source": [
    "Examples of Regular Expressions"
   ]
  },
  {
   "cell_type": "code",
   "execution_count": 1,
   "metadata": {
    "id": "aBHPXuUgsWs-"
   },
   "outputs": [],
   "source": [
    "import re"
   ]
  },
  {
   "cell_type": "markdown",
   "metadata": {
    "id": "DHzWZ_ZZmbAG"
   },
   "source": [
    "Analysis of Words"
   ]
  },
  {
   "cell_type": "code",
   "execution_count": 2,
   "metadata": {
    "id": "6B2-dVPnXa_Z"
   },
   "outputs": [],
   "source": [
    "# Example#1\n",
    "my_string0 = \"Let's write RegEx\""
   ]
  },
  {
   "cell_type": "code",
   "execution_count": 3,
   "metadata": {
    "colab": {
     "base_uri": "https://localhost:8080/"
    },
    "id": "QP0Fe92jYj5X",
    "outputId": "a9a7da12-4c93-4c51-d7ab-4bab615a127c"
   },
   "outputs": [
    {
     "name": "stdout",
     "output_type": "stream",
     "text": [
      "Let\n",
      "s\n",
      "write\n",
      "RegEx\n"
     ]
    }
   ],
   "source": [
    "# Find all words\n",
    "wordToken = r\"\\w+\"\n",
    "\n",
    "matches = re.findall(wordToken,my_string0)\n",
    "\n",
    "for match in matches:\n",
    "  print(match)"
   ]
  },
  {
   "cell_type": "code",
   "execution_count": 4,
   "metadata": {
    "id": "5GyXVpgTmlhs"
   },
   "outputs": [],
   "source": [
    "# Example#2\n",
    "my_string1 = \"Let's write RegEx!  Won't that be fun?  I sure think so.  Can you find 4 sentences?  Or perhaps, all 19 words?\""
   ]
  },
  {
   "cell_type": "code",
   "execution_count": 5,
   "metadata": {
    "colab": {
     "base_uri": "https://localhost:8080/"
    },
    "id": "on5jedLzlyqu",
    "outputId": "b5f34c3b-e894-4c87-a724-b94bdce63f9f"
   },
   "outputs": [
    {
     "name": "stdout",
     "output_type": "stream",
     "text": [
      "['Let', 'RegEx', 'Won', 'Can', 'Or']\n"
     ]
    }
   ],
   "source": [
    "# Find all capicalized words in my_string and print the result\n",
    "capitalized_words = r\"[A-Z]\\w+\"\n",
    "print(re.findall(capitalized_words, my_string1))"
   ]
  },
  {
   "cell_type": "code",
   "execution_count": 6,
   "metadata": {
    "id": "_hTWy0zFpL3t"
   },
   "outputs": [],
   "source": [
    "# Function: Print ‘n’ words in a row\n",
    "\n",
    "def print_words (list_words, numElementsRow):\n",
    "  #\n",
    "  for j in range (0,len(list_words),numElementsRow):\n",
    "    for i in range(j,j+numElementsRow):\n",
    "      if ( i >= len(list_words)):\n",
    "        break\n",
    "      print(i, '.',list_words[i], end=', ')\n",
    "    print()\n",
    "  print()"
   ]
  },
  {
   "cell_type": "code",
   "execution_count": 7,
   "metadata": {
    "colab": {
     "base_uri": "https://localhost:8080/"
    },
    "id": "D9XJBFDXn-k1",
    "outputId": "6058cbb0-ce34-4061-f46a-7a6ba4959ab9"
   },
   "outputs": [
    {
     "name": "stdout",
     "output_type": "stream",
     "text": [
      "0 . Let's, 1 . write, 2 . RegEx!, 3 . Won't, 4 . that, \n",
      "5 . be, 6 . fun?, 7 . I, 8 . sure, 9 . think, \n",
      "10 . so., 11 . Can, 12 . you, 13 . find, 14 . 4, \n",
      "15 . sentences?, 16 . Or, 17 . perhaps,, 18 . all, 19 . 19, \n",
      "20 . words?, \n",
      "\n"
     ]
    }
   ],
   "source": [
    "# Split my_string on spaces and print the result\n",
    "spaces = r\"\\s+\"\n",
    "\n",
    "list_of_words = re.split(spaces, my_string1)\n",
    "\n",
    "#print(re.split(spaces, my_string1))\n",
    "print_words(list_of_words,5)"
   ]
  },
  {
   "cell_type": "code",
   "execution_count": 8,
   "metadata": {
    "colab": {
     "base_uri": "https://localhost:8080/"
    },
    "id": "vmiaLpAwqfK3",
    "outputId": "7aa3abe0-21e4-4a4b-abb3-fcaf81784e6c"
   },
   "outputs": [
    {
     "name": "stdout",
     "output_type": "stream",
     "text": [
      "['4', '19']\n"
     ]
    }
   ],
   "source": [
    "# Find all digits in my_string and print the result\n",
    "digits = r\"\\d+\"\n",
    "print(re.findall(digits, my_string1))"
   ]
  },
  {
   "cell_type": "code",
   "execution_count": 9,
   "metadata": {
    "id": "bNeltXYU89py"
   },
   "outputs": [],
   "source": [
    "# Example#2\n",
    "my_string1 = \"Let's write RegEx!  Won't that be fun?  I sure think so.  Can you find 4 sentences?  Or perhaps, all 19 words?\""
   ]
  },
  {
   "cell_type": "code",
   "execution_count": 10,
   "metadata": {
    "colab": {
     "base_uri": "https://localhost:8080/"
    },
    "id": "lDJuwJk04uG2",
    "outputId": "68c72454-bf43-4c35-cb94-2e2ae4c7247c"
   },
   "outputs": [
    {
     "name": "stdout",
     "output_type": "stream",
     "text": [
      "<re.Match object; span=(17, 18), match='!'>\n",
      "<re.Match object; span=(37, 38), match='?'>\n",
      "<re.Match object; span=(55, 56), match='.'>\n",
      "<re.Match object; span=(82, 83), match='?'>\n",
      "<re.Match object; span=(109, 110), match='?'>\n"
     ]
    }
   ],
   "source": [
    "# 1. Split my_string on sentence endings and print the result\n",
    "sentence_ending = re.compile(r\"[.?!]\")\n",
    "\n",
    "matches = sentence_ending.finditer(my_string1)\n",
    "for match in matches:\n",
    "  print(match)"
   ]
  },
  {
   "cell_type": "code",
   "execution_count": 11,
   "metadata": {
    "colab": {
     "base_uri": "https://localhost:8080/"
    },
    "id": "5nurD47mOWD3",
    "outputId": "d3ae3439-65bf-481f-b230-54b567a67d45"
   },
   "outputs": [
    {
     "name": "stdout",
     "output_type": "stream",
     "text": [
      "[\"Let's write RegEx\", \"  Won't that be fun\", '  I sure think so', '  Can you find 4 sentences', '  Or perhaps, all 19 words', '']\n"
     ]
    }
   ],
   "source": [
    "print(re.split(sentence_ending, my_string1))"
   ]
  },
  {
   "cell_type": "code",
   "execution_count": 12,
   "metadata": {
    "id": "RAz9cVB7UQWA"
   },
   "outputs": [],
   "source": [
    "# Example#2\n",
    "my_string2 = 'The URL of Google is www.google.com'"
   ]
  },
  {
   "cell_type": "code",
   "execution_count": 13,
   "metadata": {
    "colab": {
     "base_uri": "https://localhost:8080/"
    },
    "id": "x4LFCSftUjOX",
    "outputId": "fd3c3d3f-8b1b-48b1-eda7-cd432fb21a1e"
   },
   "outputs": [
    {
     "name": "stdout",
     "output_type": "stream",
     "text": [
      "<re.Match object; span=(24, 25), match='.'>\n",
      "<re.Match object; span=(31, 32), match='.'>\n"
     ]
    }
   ],
   "source": [
    "# 1. Split my_string on sentence endings and print the result\n",
    "sentence_ending = re.compile(r\"[.?!]\")\n",
    "\n",
    "matches = sentence_ending.finditer(my_string2)\n",
    "for match in matches:\n",
    "  print(match)"
   ]
  },
  {
   "cell_type": "code",
   "execution_count": 14,
   "metadata": {
    "colab": {
     "base_uri": "https://localhost:8080/"
    },
    "id": "8ooP5BTqUnMt",
    "outputId": "e86c0173-5156-486c-9d27-67312858b6a5"
   },
   "outputs": [
    {
     "name": "stdout",
     "output_type": "stream",
     "text": [
      "['The URL of Google is www', 'google', 'com']\n"
     ]
    }
   ],
   "source": [
    "print(re.split(sentence_ending, my_string2))"
   ]
  },
  {
   "cell_type": "markdown",
   "metadata": {
    "id": "QkXbkHZIugAf"
   },
   "source": [
    "NLTK Tokenizer"
   ]
  },
  {
   "cell_type": "code",
   "execution_count": 15,
   "metadata": {
    "colab": {
     "base_uri": "https://localhost:8080/",
     "height": 73
    },
    "id": "nydANcgnpQgm",
    "outputId": "050573af-c75b-43ee-b8f0-09d65478797c"
   },
   "outputs": [
    {
     "data": {
      "text/html": [
       "\n",
       "     <input type=\"file\" id=\"files-2c3dafba-9d68-4415-aa33-fdf8225417c1\" name=\"files[]\" multiple disabled\n",
       "        style=\"border:none\" />\n",
       "     <output id=\"result-2c3dafba-9d68-4415-aa33-fdf8225417c1\">\n",
       "      Upload widget is only available when the cell has been executed in the\n",
       "      current browser session. Please rerun this cell to enable.\n",
       "      </output>\n",
       "      <script>// Copyright 2017 Google LLC\n",
       "//\n",
       "// Licensed under the Apache License, Version 2.0 (the \"License\");\n",
       "// you may not use this file except in compliance with the License.\n",
       "// You may obtain a copy of the License at\n",
       "//\n",
       "//      http://www.apache.org/licenses/LICENSE-2.0\n",
       "//\n",
       "// Unless required by applicable law or agreed to in writing, software\n",
       "// distributed under the License is distributed on an \"AS IS\" BASIS,\n",
       "// WITHOUT WARRANTIES OR CONDITIONS OF ANY KIND, either express or implied.\n",
       "// See the License for the specific language governing permissions and\n",
       "// limitations under the License.\n",
       "\n",
       "/**\n",
       " * @fileoverview Helpers for google.colab Python module.\n",
       " */\n",
       "(function(scope) {\n",
       "function span(text, styleAttributes = {}) {\n",
       "  const element = document.createElement('span');\n",
       "  element.textContent = text;\n",
       "  for (const key of Object.keys(styleAttributes)) {\n",
       "    element.style[key] = styleAttributes[key];\n",
       "  }\n",
       "  return element;\n",
       "}\n",
       "\n",
       "// Max number of bytes which will be uploaded at a time.\n",
       "const MAX_PAYLOAD_SIZE = 100 * 1024;\n",
       "\n",
       "function _uploadFiles(inputId, outputId) {\n",
       "  const steps = uploadFilesStep(inputId, outputId);\n",
       "  const outputElement = document.getElementById(outputId);\n",
       "  // Cache steps on the outputElement to make it available for the next call\n",
       "  // to uploadFilesContinue from Python.\n",
       "  outputElement.steps = steps;\n",
       "\n",
       "  return _uploadFilesContinue(outputId);\n",
       "}\n",
       "\n",
       "// This is roughly an async generator (not supported in the browser yet),\n",
       "// where there are multiple asynchronous steps and the Python side is going\n",
       "// to poll for completion of each step.\n",
       "// This uses a Promise to block the python side on completion of each step,\n",
       "// then passes the result of the previous step as the input to the next step.\n",
       "function _uploadFilesContinue(outputId) {\n",
       "  const outputElement = document.getElementById(outputId);\n",
       "  const steps = outputElement.steps;\n",
       "\n",
       "  const next = steps.next(outputElement.lastPromiseValue);\n",
       "  return Promise.resolve(next.value.promise).then((value) => {\n",
       "    // Cache the last promise value to make it available to the next\n",
       "    // step of the generator.\n",
       "    outputElement.lastPromiseValue = value;\n",
       "    return next.value.response;\n",
       "  });\n",
       "}\n",
       "\n",
       "/**\n",
       " * Generator function which is called between each async step of the upload\n",
       " * process.\n",
       " * @param {string} inputId Element ID of the input file picker element.\n",
       " * @param {string} outputId Element ID of the output display.\n",
       " * @return {!Iterable<!Object>} Iterable of next steps.\n",
       " */\n",
       "function* uploadFilesStep(inputId, outputId) {\n",
       "  const inputElement = document.getElementById(inputId);\n",
       "  inputElement.disabled = false;\n",
       "\n",
       "  const outputElement = document.getElementById(outputId);\n",
       "  outputElement.innerHTML = '';\n",
       "\n",
       "  const pickedPromise = new Promise((resolve) => {\n",
       "    inputElement.addEventListener('change', (e) => {\n",
       "      resolve(e.target.files);\n",
       "    });\n",
       "  });\n",
       "\n",
       "  const cancel = document.createElement('button');\n",
       "  inputElement.parentElement.appendChild(cancel);\n",
       "  cancel.textContent = 'Cancel upload';\n",
       "  const cancelPromise = new Promise((resolve) => {\n",
       "    cancel.onclick = () => {\n",
       "      resolve(null);\n",
       "    };\n",
       "  });\n",
       "\n",
       "  // Wait for the user to pick the files.\n",
       "  const files = yield {\n",
       "    promise: Promise.race([pickedPromise, cancelPromise]),\n",
       "    response: {\n",
       "      action: 'starting',\n",
       "    }\n",
       "  };\n",
       "\n",
       "  cancel.remove();\n",
       "\n",
       "  // Disable the input element since further picks are not allowed.\n",
       "  inputElement.disabled = true;\n",
       "\n",
       "  if (!files) {\n",
       "    return {\n",
       "      response: {\n",
       "        action: 'complete',\n",
       "      }\n",
       "    };\n",
       "  }\n",
       "\n",
       "  for (const file of files) {\n",
       "    const li = document.createElement('li');\n",
       "    li.append(span(file.name, {fontWeight: 'bold'}));\n",
       "    li.append(span(\n",
       "        `(${file.type || 'n/a'}) - ${file.size} bytes, ` +\n",
       "        `last modified: ${\n",
       "            file.lastModifiedDate ? file.lastModifiedDate.toLocaleDateString() :\n",
       "                                    'n/a'} - `));\n",
       "    const percent = span('0% done');\n",
       "    li.appendChild(percent);\n",
       "\n",
       "    outputElement.appendChild(li);\n",
       "\n",
       "    const fileDataPromise = new Promise((resolve) => {\n",
       "      const reader = new FileReader();\n",
       "      reader.onload = (e) => {\n",
       "        resolve(e.target.result);\n",
       "      };\n",
       "      reader.readAsArrayBuffer(file);\n",
       "    });\n",
       "    // Wait for the data to be ready.\n",
       "    let fileData = yield {\n",
       "      promise: fileDataPromise,\n",
       "      response: {\n",
       "        action: 'continue',\n",
       "      }\n",
       "    };\n",
       "\n",
       "    // Use a chunked sending to avoid message size limits. See b/62115660.\n",
       "    let position = 0;\n",
       "    do {\n",
       "      const length = Math.min(fileData.byteLength - position, MAX_PAYLOAD_SIZE);\n",
       "      const chunk = new Uint8Array(fileData, position, length);\n",
       "      position += length;\n",
       "\n",
       "      const base64 = btoa(String.fromCharCode.apply(null, chunk));\n",
       "      yield {\n",
       "        response: {\n",
       "          action: 'append',\n",
       "          file: file.name,\n",
       "          data: base64,\n",
       "        },\n",
       "      };\n",
       "\n",
       "      let percentDone = fileData.byteLength === 0 ?\n",
       "          100 :\n",
       "          Math.round((position / fileData.byteLength) * 100);\n",
       "      percent.textContent = `${percentDone}% done`;\n",
       "\n",
       "    } while (position < fileData.byteLength);\n",
       "  }\n",
       "\n",
       "  // All done.\n",
       "  yield {\n",
       "    response: {\n",
       "      action: 'complete',\n",
       "    }\n",
       "  };\n",
       "}\n",
       "\n",
       "scope.google = scope.google || {};\n",
       "scope.google.colab = scope.google.colab || {};\n",
       "scope.google.colab._files = {\n",
       "  _uploadFiles,\n",
       "  _uploadFilesContinue,\n",
       "};\n",
       "})(self);\n",
       "</script> "
      ],
      "text/plain": [
       "<IPython.core.display.HTML object>"
      ]
     },
     "metadata": {},
     "output_type": "display_data"
    },
    {
     "name": "stdout",
     "output_type": "stream",
     "text": [
      "Saving grail.txt to grail.txt\n"
     ]
    }
   ],
   "source": [
    "from google.colab import files\n",
    "f = files.upload()"
   ]
  },
  {
   "cell_type": "code",
   "execution_count": 16,
   "metadata": {
    "colab": {
     "base_uri": "https://localhost:8080/"
    },
    "id": "zSK5AtJtpQkN",
    "outputId": "3d92330f-3736-4bf3-bc5e-43eef5106a2d"
   },
   "outputs": [
    {
     "name": "stdout",
     "output_type": "stream",
     "text": [
      "grail.txt  sample_data\n"
     ]
    }
   ],
   "source": [
    "!ls"
   ]
  },
  {
   "cell_type": "code",
   "execution_count": 17,
   "metadata": {
    "colab": {
     "base_uri": "https://localhost:8080/"
    },
    "id": "_HnN03Pc8iI0",
    "outputId": "b3075ddb-a0b5-448b-f755-f42c43e7900d"
   },
   "outputs": [
    {
     "name": "stdout",
     "output_type": "stream",
     "text": [
      "\"SCENE 1: [wind] [clop clop clop] \\nKING ARTHUR: Whoa there!  [clop clop clop] \\nSOLDIER #1: Halt!  Who goes there?\\nARTHUR: It is I, Arthur, son of Uther Pendragon, from the castle of Camelot.  King of the Britons, defeator of the Saxons, sovereign of all England!\\nSOLDIER #1: Pull the other one!\\nARTHUR: I am, ...  and this is my trusty servant Patsy.  We have ridden the length and breadth of the land in search of knights who will join me in my court at Camelot.  I must speak with your lord and master.\\nSOLDIER #1: What?  Ridden on a horse?\\nARTHUR: Yes!\\nSOLDIER #1: You're using coconuts!\\nARTHUR: What?\\nSOLDIER #1: You've got two empty halves of coconut and you're bangin' 'em together.\\nARTHUR: So?  We have ridden since the snows of winter covered this land, through the kingdom of Mercea, through--\\nSOLDIER #1: Where'd you get the coconuts?\\nARTHUR: We found them.\\nSOLDIER #1: Found them?  In Mercea?  The coconut's tropical!\\nARTHUR: What do you mean?\\nSOLDIER #1: Well, this is a temperate zone.\\nARTHUR: The swallow may fly south with the sun or the house martin or the plover may seek warmer climes in winter, yet these are not strangers to our land?\\nSOLDIER #1: Are you suggesting coconuts migrate?\\nARTHUR: Not at all.  They could be carried.\\nSOLDIER #1: What?  A swallow carrying a coconut?\\nARTHUR: It could grip it by the husk!\\nSOLDIER #1: It's not a question of where he grips it!  It's a simple question of weight ratios!  A five ounce bird could not carry a one pound coconut.\\nARTHUR: Well, it doesn't matter.  Will you go and tell your master that Arthur from the Court of Camelot is here.\\nSOLDIER #1: Listen.  In order to maintain air-speed velocity, a swallow needs to beat its wings forty-three times every second, right?\\nARTHUR: Please!\\nSOLDIER #1: Am I right?\\nARTHUR: I'm not interested!\\nSOLDIER #2: It could be carried by an African swallow!\\nSOLDIER #1: Oh, yeah, an African swallow maybe, but not a European swallow.  That's my point.\\nSOLDIER #2: Oh, yeah, I agree with that.\\nARTHUR: Will you ask your master if he wants to join my court at Camelot?!\\nSOLDIER #1: But then of course a-- African swallows are non-migratory.\\nSOLDIER #2: Oh, yeah...\\nSOLDIER #1: So they couldn't bring a coconut back anyway...  [clop clop clop] \\nSOLDIER #2: Wait a minute!  Supposing two swallows carried it together?\\nSOLDIER #1: No, they'd have to have it on a line.\\nSOLDIER #2: Well, simple!  They'd just use a strand of creeper!\\nSOLDIER #1: What, held under the dorsal guiding feathers?\\nSOLDIER #2: Well, why not?\\n\"\n"
     ]
    }
   ],
   "source": [
    "with open('grail.txt', 'r') as file:\n",
    "    holy_grail = file.read()\n",
    "    scene_one = re.split('SCENE 2:', holy_grail)[0]\n",
    "\n",
    "print(scene_one)"
   ]
  },
  {
   "cell_type": "code",
   "execution_count": 18,
   "metadata": {
    "colab": {
     "base_uri": "https://localhost:8080/"
    },
    "id": "l-PCgbeqpQoE",
    "outputId": "bee99e89-9a80-42f4-e2c3-adce92808e2c"
   },
   "outputs": [
    {
     "name": "stdout",
     "output_type": "stream",
     "text": [
      "<class 'str'>\n",
      "\"SCENE 1: [wind] [clop clop clop] \\nKING ARTHUR: Whoa there!  [clop clop clop] \\nSOLDIER #1: Halt!  Who goes there?\\nARTHUR: It is I, Arthur, son of Uther Pendragon, from the castle of Camelot.  King of the Britons, defeator of the Saxons, sovereign of all England!\\nSOLDIER #1: Pull the other one!\\nARTHUR: I am, ...  and this is my trusty servant Patsy.  We have ridden the length and breadth of the land in search of knights who will join me in my court at Camelot.  I must speak with your lord and master.\\nSOLDIER #1: What?  Ridden on a horse?\\nARTHUR: Yes!\\nSOLDIER #1: You're using coconuts!\\nARTHUR: What?\\nSOLDIER #1: You've got two empty halves of coconut and you're bangin' 'em together.\\nARTHUR: So?  We have ridden since the snows of winter covered this land, through the kingdom of Mercea, through--\\nSOLDIER #1: Where'd you get the coconuts?\\nARTHUR: We found them.\\nSOLDIER #1: Found them?  In Mercea?  The coconut's tropical!\\nARTHUR: What do you mean?\\nSOLDIER #1: Well, this is a temperate zone.\\nARTHUR: The swallow may fly south with the sun or the house martin or the plover may seek warmer climes in winter, yet these are not strangers to our land?\\nSOLDIER #1: Are you suggesting coconuts migrate?\\nARTHUR: Not at all.  They could be carried.\\nSOLDIER #1: What?  A swallow carrying a coconut?\\nARTHUR: It could grip it by the husk!\\nSOLDIER #1: It's not a question of where he grips it!  It's a simple question of weight ratios!  A five ounce bird could not carry a one pound coconut.\\nARTHUR: Well, it doesn't matter.  Will you go and tell your master that Arthur from the Court of Camelot is here.\\nSOLDIER #1: Listen.  In order to maintain air-speed velocity, a swallow needs to beat its wings forty-three times every second, right?\\nARTHUR: Please!\\nSOLDIER #1: Am I right?\\nARTHUR: I'm not interested!\\nSOLDIER #2: It could be carried by an African swallow!\\nSOLDIER #1: Oh, yeah, an African swallow maybe, but not a European swallow.  That's my point.\\nSOLDIER #2: Oh, yeah, I agree with that.\\nARTHUR: Will you ask your master if he wants to join my court at Camelot?!\\nSOLDIER #1: But then of course a-- African swallows are non-migratory.\\nSOLDIER #2: Oh, yeah...\\nSOLDIER #1: So they couldn't bring a coconut back anyway...  [clop clop clop] \\nSOLDIER #2: Wait a minute!  Supposing two swallows carried it together?\\nSOLDIER #1: No, they'd have to have it on a line.\\nSOLDIER #2: Well, simple!  They'd just use a strand of creeper!\\nSOLDIER #1: What, held under the dorsal guiding feathers?\\nSOLDIER #2: Well, why not?\\n\"\n"
     ]
    }
   ],
   "source": [
    "with open('grail.txt', 'r') as file:\n",
    "    holy_grail = file.read()\n",
    "    scene_one = re.split('SCENE 2:', holy_grail)[0]\n",
    "\n",
    "print(type(scene_one))\n",
    "print(scene_one)"
   ]
  },
  {
   "cell_type": "code",
   "execution_count": 19,
   "metadata": {
    "colab": {
     "base_uri": "https://localhost:8080/"
    },
    "id": "fjKgX4WZrOz5",
    "outputId": "d7e762f3-e535-40a6-d542-44b78cf5471e"
   },
   "outputs": [
    {
     "name": "stderr",
     "output_type": "stream",
     "text": [
      "[nltk_data] Downloading package punkt to /root/nltk_data...\n",
      "[nltk_data]   Unzipping tokenizers/punkt.zip.\n"
     ]
    },
    {
     "data": {
      "text/plain": [
       "True"
      ]
     },
     "execution_count": 19,
     "metadata": {},
     "output_type": "execute_result"
    }
   ],
   "source": [
    "import nltk\n",
    "nltk.download('punkt')"
   ]
  },
  {
   "cell_type": "code",
   "execution_count": 20,
   "metadata": {
    "id": "EF_oq_oCpQr8"
   },
   "outputs": [],
   "source": [
    "from nltk.tokenize import word_tokenize, sent_tokenize"
   ]
  },
  {
   "cell_type": "code",
   "execution_count": 21,
   "metadata": {
    "colab": {
     "base_uri": "https://localhost:8080/"
    },
    "id": "8PQTE_FBwOdW",
    "outputId": "aa0ae455-a443-470e-8793-df695de85081"
   },
   "outputs": [
    {
     "name": "stdout",
     "output_type": "stream",
     "text": [
      "0 . \"SCENE 1: [wind] [clop clop clop] \\nKING ARTHUR: Whoa there!, \n",
      "1 . [clop clop clop] \\nSOLDIER #1: Halt!, \n",
      "2 . Who goes there?\\nARTHUR: It is I, Arthur, son of Uther Pendragon, from the castle of Camelot., \n",
      "3 . King of the Britons, defeator of the Saxons, sovereign of all England!\\nSOLDIER #1: Pull the other one!\\nARTHUR: I am, ...  and this is my trusty servant Patsy., \n",
      "4 . We have ridden the length and breadth of the land in search of knights who will join me in my court at Camelot., \n",
      "5 . I must speak with your lord and master.\\nSOLDIER #1: What?, \n",
      "6 . Ridden on a horse?\\nARTHUR: Yes!\\nSOLDIER #1: You're using coconuts!\\nARTHUR: What?\\nSOLDIER #1: You've got two empty halves of coconut and you're bangin' 'em together.\\nARTHUR: So?, \n",
      "7 . We have ridden since the snows of winter covered this land, through the kingdom of Mercea, through--\\nSOLDIER #1: Where'd you get the coconuts?\\nARTHUR: We found them.\\nSOLDIER #1: Found them?, \n",
      "8 . In Mercea?, \n",
      "9 . The coconut's tropical!\\nARTHUR: What do you mean?\\nSOLDIER #1: Well, this is a temperate zone.\\nARTHUR: The swallow may fly south with the sun or the house martin or the plover may seek warmer climes in winter, yet these are not strangers to our land?\\nSOLDIER #1: Are you suggesting coconuts migrate?\\nARTHUR: Not at all., \n",
      "10 . They could be carried.\\nSOLDIER #1: What?, \n",
      "11 . A swallow carrying a coconut?\\nARTHUR: It could grip it by the husk!\\nSOLDIER #1: It's not a question of where he grips it!, \n",
      "12 . It's a simple question of weight ratios!, \n",
      "13 . A five ounce bird could not carry a one pound coconut.\\nARTHUR: Well, it doesn't matter., \n",
      "14 . Will you go and tell your master that Arthur from the Court of Camelot is here.\\nSOLDIER #1: Listen., \n",
      "15 . In order to maintain air-speed velocity, a swallow needs to beat its wings forty-three times every second, right?\\nARTHUR: Please!\\nSOLDIER #1: Am I right?\\nARTHUR: I'm not interested!\\nSOLDIER #2: It could be carried by an African swallow!\\nSOLDIER #1: Oh, yeah, an African swallow maybe, but not a European swallow., \n",
      "16 . That's my point.\\nSOLDIER #2: Oh, yeah, I agree with that.\\nARTHUR: Will you ask your master if he wants to join my court at Camelot?, \n",
      "17 . !\\nSOLDIER #1: But then of course a-- African swallows are non-migratory.\\nSOLDIER #2: Oh, yeah...\\nSOLDIER #1: So they couldn't bring a coconut back anyway...  [clop clop clop] \\nSOLDIER #2: Wait a minute!, \n",
      "18 . Supposing two swallows carried it together?\\nSOLDIER #1: No, they'd have to have it on a line.\\nSOLDIER #2: Well, simple!, \n",
      "19 . They'd just use a strand of creeper!\\nSOLDIER #1: What, held under the dorsal guiding feathers?\\nSOLDIER #2: Well, why not?\\n\", \n",
      "\n"
     ]
    }
   ],
   "source": [
    "# Split scene_one into sentences: sentences\n",
    "sentences = sent_tokenize(scene_one)\n",
    "print_words(sentences,1)"
   ]
  },
  {
   "cell_type": "code",
   "execution_count": 22,
   "metadata": {
    "colab": {
     "base_uri": "https://localhost:8080/"
    },
    "id": "x0W425xqwD3f",
    "outputId": "5f6b6db7-b47c-4f72-9e42-17bc81534b71"
   },
   "outputs": [
    {
     "name": "stdout",
     "output_type": "stream",
     "text": [
      "0 . Who, 1 . goes, 2 . there, 3 . ?, 4 . \\nARTHUR, \n",
      "5 . :, 6 . It, 7 . is, 8 . I, 9 . ,, \n",
      "10 . Arthur, 11 . ,, 12 . son, 13 . of, 14 . Uther, \n",
      "15 . Pendragon, 16 . ,, 17 . from, 18 . the, 19 . castle, \n",
      "20 . of, 21 . Camelot, 22 . ., \n",
      "\n"
     ]
    }
   ],
   "source": [
    "# Use word_tokenize to tokenize the third sentence: tokenized_sent\n",
    "tokenized_sent = word_tokenize(sentences[2])\n",
    "print_words(tokenized_sent,5)"
   ]
  },
  {
   "cell_type": "code",
   "execution_count": 23,
   "metadata": {
    "id": "tb75YFyHwD7O"
   },
   "outputs": [],
   "source": [
    "# Make a set of unique tokens in the entire scene: unique_tokens\n",
    "unique_tokens = set(word_tokenize(scene_one))\n",
    "#print(unique_tokens)"
   ]
  },
  {
   "cell_type": "code",
   "execution_count": 24,
   "metadata": {
    "colab": {
     "base_uri": "https://localhost:8080/"
    },
    "id": "3Y_p0-9kwD_X",
    "outputId": "08e9e229-e3b6-4846-a1bc-15407e451bfe"
   },
   "outputs": [
    {
     "name": "stdout",
     "output_type": "stream",
     "text": [
      "0 . right, 1 . Supposing, 2 . if, 3 . these, 4 . it, \n",
      "5 . in, 6 . wants, 7 . lord, 8 . to, 9 . !, \n",
      "10 . Will, 11 . your, 12 . Ridden, 13 . In, 14 . them, \n",
      "15 . climes, 16 . Patsy, 17 . times, 18 . #, 19 . carrying, \n",
      "20 . plover, 21 . knights, 22 . sovereign, 23 . master, 24 . all, \n",
      "25 . grips, 26 . non-migratory.\\nSOLDIER, 27 . air-speed, 28 . with, 29 . Pull, \n",
      "30 . ], 31 . simple, 32 . is, 33 . minute, 34 . them.\\nSOLDIER, \n",
      "35 . ARTHUR, 36 . castle, 37 . 've, 38 . pound, 39 . snows, \n",
      "40 . ', 41 . must, 42 . ask, 43 . needs, 44 . Found, \n",
      "45 . may, 46 . winter, 47 . court, 48 . the, 49 . bangin, \n",
      "50 . matter, 51 . wind, 52 . 'm, 53 . line.\\nSOLDIER, 54 . zone.\\nARTHUR, \n",
      "55 . south, 56 . Not, 57 . empty, 58 . then, 59 . am, \n",
      "60 . a, 61 . Arthur, 62 . ?, 63 . could, 64 . African, \n",
      "65 . an, 66 . that.\\nARTHUR, 67 . question, 68 . halves, 69 . 're, \n",
      "70 . course, 71 . every, 72 . be, 73 . horse, 74 . house, \n",
      "75 . guiding, 76 . coconut, 77 . breadth, 78 . ridden, 79 . together.\\nARTHUR, \n",
      "80 . held, 81 . maintain, 82 . \\nSOLDIER, 83 . sun, 84 . bird, \n",
      "85 . dorsal, 86 . The, 87 . So, 88 . ratios, 89 . temperate, \n",
      "90 . under, 91 . will, 92 . are, 93 . Whoa, 94 . 2, \n",
      "95 . our, 96 . you, 97 . 'd, 98 . coconut.\\nARTHUR, 99 . England, \n",
      "100 . bring, 101 . back, 102 . on, 103 . Wait, 104 . grip, \n",
      "105 . King, 106 . got, 107 . velocity, 108 . carried, 109 . carry, \n",
      "110 . Court, 111 . \\n, 112 . anyway, 113 . They, 114 . length, \n",
      "115 . \\nARTHUR, 116 . from, 117 . its, 118 . ``, 119 . Britons, \n",
      "120 . of, 121 . You, 122 . why, 123 . \\nKING, 124 . son, \n",
      "125 . master.\\nSOLDIER, 126 . seek, 127 . clop, 128 . but, 129 . '', \n",
      "130 . 1, 131 . Am, 132 . agree, 133 . covered, 134 . using, \n",
      "135 . together, 136 . carried.\\nSOLDIER, 137 . by, 138 . suggesting, 139 . Listen, \n",
      "140 . does, 141 . interested, 142 . just, 143 . he, 144 . defeator, \n",
      "145 . get, 146 . SCENE, 147 . goes, 148 . Yes, 149 . have, \n",
      "150 . martin, 151 . who, 152 . yet, 153 . ,, 154 . strangers, \n",
      "155 . not, 156 . ..., 157 . one, 158 . here.\\nSOLDIER, 159 . where, \n",
      "160 . Where, 161 . Halt, 162 . warmer, 163 . A, 164 . Oh, \n",
      "165 . forty-three, 166 . maybe, 167 . It, 168 . Camelot, 169 . swallow, \n",
      "170 . feathers, 171 . --, 172 . use, 173 . migrate, 174 . Pendragon, \n",
      "175 . beat, 176 . Saxons, 177 . yeah, 178 . two, 179 . [, \n",
      "180 . servant, 181 . What, 182 . other, 183 . five, 184 . Please, \n",
      "185 . do, 186 . at, 187 . ., 188 . or, 189 . land, \n",
      "190 . found, 191 . coconuts, 192 . ounce, 193 . that, 194 . But, \n",
      "195 . fly, 196 . tell, 197 . my, 198 . and, 199 . point.\\nSOLDIER, \n",
      "200 . join, 201 . mean, 202 . Who, 203 . No, 204 . kingdom, \n",
      "205 . speak, 206 . search, 207 . this, 208 . strand, 209 . I, \n",
      "210 . n't, 211 . tropical, 212 . Are, 213 . there, 214 . :, \n",
      "215 . order, 216 . 'em, 217 . 's, 218 . European, 219 . husk, \n",
      "220 . Uther, 221 . That, 222 . creeper, 223 . trusty, 224 . since, \n",
      "225 . Mercea, 226 . Well, 227 . through, 228 . go, 229 . weight, \n",
      "230 . me, 231 . second, 232 . they, 233 . wings, 234 . swallows, \n",
      "235 . We, \n",
      "\n"
     ]
    }
   ],
   "source": [
    "# Print the unique tokens result\n",
    "print_words(list(unique_tokens),5)"
   ]
  },
  {
   "cell_type": "markdown",
   "metadata": {
    "id": "JTDVIUWT4zyA"
   },
   "source": [
    "Match Regular Expressions"
   ]
  },
  {
   "cell_type": "code",
   "execution_count": 25,
   "metadata": {
    "colab": {
     "base_uri": "https://localhost:8080/"
    },
    "id": "_irb1FR2pQwE",
    "outputId": "b2447602-49d5-4d81-85f1-c8c19d1721ce"
   },
   "outputs": [
    {
     "name": "stdout",
     "output_type": "stream",
     "text": [
      "589 597\n",
      "coconuts\n"
     ]
    }
   ],
   "source": [
    "match = re.search(\"coconuts\", scene_one)\n",
    "\n",
    "# Print the start and end indexes of match\n",
    "print(match.start(), match.end())\n",
    "\n",
    "print(scene_one[589:597])"
   ]
  },
  {
   "cell_type": "markdown",
   "metadata": {
    "id": "8pP7cQmYswMb"
   },
   "source": [
    "Advanced Tokenization with NLTK and regex"
   ]
  },
  {
   "cell_type": "code",
   "execution_count": 26,
   "metadata": {
    "id": "UL_euVmJt-Tw"
   },
   "outputs": [],
   "source": [
    "from pprint import pprint\n",
    "\n",
    "from nltk.tokenize import regexp_tokenize"
   ]
  },
  {
   "cell_type": "code",
   "execution_count": 27,
   "metadata": {
    "id": "y09mMTgVsKaz"
   },
   "outputs": [],
   "source": [
    "my_string = \"SOLDIER #1: Found them? In Mercea? The coconut's tropical!\""
   ]
  },
  {
   "cell_type": "code",
   "execution_count": 29,
   "metadata": {
    "id": "hHVZ3ukEB3xU"
   },
   "outputs": [],
   "source": [
    "pattern1 = r'(\\\\w+|\\\\?|!)'\n",
    "pattern2 = r\"(\\w+|#\\d|\\?|!)\"\n",
    "pattern3 = r'(#\\\\d\\\\w+\\\\?!)'\n",
    "pattern4 = r'\\\\s+'"
   ]
  },
  {
   "cell_type": "code",
   "execution_count": 30,
   "metadata": {
    "colab": {
     "base_uri": "https://localhost:8080/"
    },
    "id": "TyJIP3HVsKd6",
    "outputId": "1af1f1d9-439d-455d-b94a-e3525c347ac0"
   },
   "outputs": [
    {
     "name": "stdout",
     "output_type": "stream",
     "text": [
      "[]\n"
     ]
    }
   ],
   "source": [
    "pprint(regexp_tokenize(my_string, pattern3))"
   ]
  },
  {
   "cell_type": "code",
   "execution_count": 31,
   "metadata": {
    "colab": {
     "base_uri": "https://localhost:8080/"
    },
    "id": "fNGhCrGwGVr-",
    "outputId": "60da7e93-16c7-4d7c-bb97-bc5c84caad62"
   },
   "outputs": [
    {
     "name": "stdout",
     "output_type": "stream",
     "text": [
      "[]\n"
     ]
    }
   ],
   "source": [
    "pprint(regexp_tokenize(my_string, pattern4))"
   ]
  },
  {
   "cell_type": "code",
   "execution_count": 32,
   "metadata": {
    "id": "XkspBZ_1sKhp"
   },
   "outputs": [],
   "source": [
    "# Three tweets\n",
    "tweets = ['This is the best #nlp exercise ive found online! #python',\n",
    " '#NLP is super fun! <3 #learning',\n",
    " 'Thanks @chapman :) #nlp #python']"
   ]
  },
  {
   "cell_type": "code",
   "execution_count": 33,
   "metadata": {
    "id": "6TBnPY8mG6Ue"
   },
   "outputs": [],
   "source": [
    "from nltk.tokenize import regexp_tokenize, TweetTokenizer"
   ]
  },
  {
   "cell_type": "code",
   "execution_count": 34,
   "metadata": {
    "id": "-Xq6_plysKk5"
   },
   "outputs": [],
   "source": [
    "# Define a regex pattern to find hashtags: pattern1\n",
    "pattern1 = r\"#\\w+\""
   ]
  },
  {
   "cell_type": "code",
   "execution_count": null,
   "metadata": {
    "colab": {
     "base_uri": "https://localhost:8080/"
    },
    "id": "QfsKfkkTHSsq",
    "outputId": "efca446f-b8f0-44ce-8847-e022ac2fa036"
   },
   "outputs": [
    {
     "name": "stdout",
     "output_type": "stream",
     "text": [
      "This is the best #nlp exercise ive found online! #python\n"
     ]
    }
   ],
   "source": [
    "print(tweets[0])"
   ]
  },
  {
   "cell_type": "code",
   "execution_count": null,
   "metadata": {
    "colab": {
     "base_uri": "https://localhost:8080/"
    },
    "id": "ach3fNdOHFGF",
    "outputId": "2bb64147-b3ae-4c7c-d50d-38bfc7d8f7de"
   },
   "outputs": [
    {
     "name": "stdout",
     "output_type": "stream",
     "text": [
      "['#nlp', '#python']\n"
     ]
    }
   ],
   "source": [
    "# Use the pattern on the first tweet in the tweets list\n",
    "hashtags = regexp_tokenize(tweets[0], pattern1)\n",
    "print(hashtags)"
   ]
  },
  {
   "cell_type": "code",
   "execution_count": null,
   "metadata": {
    "id": "lavQe-jzsKot"
   },
   "outputs": [],
   "source": [
    "pattern2 = r\"[@|#]\\w+\""
   ]
  },
  {
   "cell_type": "code",
   "execution_count": null,
   "metadata": {
    "colab": {
     "base_uri": "https://localhost:8080/"
    },
    "id": "AC4RioiuIQrP",
    "outputId": "f81b46fe-c0ad-4427-8bdf-d6c441174b81"
   },
   "outputs": [
    {
     "name": "stdout",
     "output_type": "stream",
     "text": [
      "Thanks @chapman :) #nlp #python\n"
     ]
    }
   ],
   "source": [
    "print(tweets[-1])"
   ]
  },
  {
   "cell_type": "code",
   "execution_count": null,
   "metadata": {
    "colab": {
     "base_uri": "https://localhost:8080/"
    },
    "id": "fkQzwJ1tIqBV",
    "outputId": "386f93f5-a955-4d02-f504-0d1652960fa0"
   },
   "outputs": [
    {
     "name": "stdout",
     "output_type": "stream",
     "text": [
      "['@chapman', '#nlp', '#python']\n"
     ]
    }
   ],
   "source": [
    "# Use the pattern on the last tweet in the tweets list\n",
    "mentions_hashtags = regexp_tokenize(tweets[-1], pattern2)\n",
    "print(mentions_hashtags)"
   ]
  },
  {
   "cell_type": "code",
   "execution_count": null,
   "metadata": {
    "colab": {
     "base_uri": "https://localhost:8080/"
    },
    "id": "ORi7LBM-sKwu",
    "outputId": "4f92bdf9-051b-4241-b6a3-227859c0b50c"
   },
   "outputs": [
    {
     "name": "stdout",
     "output_type": "stream",
     "text": [
      "0 . ['This', 'is', 'the', 'best', '#nlp', 'exercise', 'ive', 'found', 'online', '!', '#python'], \n",
      "1 . ['#NLP', 'is', 'super', 'fun', '!', '<3', '#learning'], \n",
      "2 . ['Thanks', '@chapman', ':)', '#nlp', '#python'], \n",
      "\n"
     ]
    }
   ],
   "source": [
    "tknzr = TweetTokenizer()\n",
    "all_tokens = [tknzr.tokenize(t) for t in tweets]\n",
    "print_words(all_tokens,1)"
   ]
  },
  {
   "cell_type": "markdown",
   "metadata": {
    "id": "ZGxUmqE5A7KG"
   },
   "source": [
    "Non-ascii tokenization"
   ]
  },
  {
   "cell_type": "code",
   "execution_count": null,
   "metadata": {
    "id": "z9UZVmzCvWG6"
   },
   "outputs": [],
   "source": [
    "german_text = 'Wann gehen wir Pizza essen? 🍕 Und fährst du mit Über? 🚕'"
   ]
  },
  {
   "cell_type": "code",
   "execution_count": null,
   "metadata": {
    "colab": {
     "base_uri": "https://localhost:8080/"
    },
    "id": "Zcrj4vgdvWK2",
    "outputId": "16e5085c-36c3-4ec9-9fbd-8d37a1428fd1"
   },
   "outputs": [
    {
     "name": "stdout",
     "output_type": "stream",
     "text": [
      "['Wann', 'gehen', 'wir', 'Pizza', 'essen', '?', '🍕', 'Und', 'fährst', 'du', 'mit', 'Über', '?', '🚕']\n",
      "['Wann', 'Pizza', 'Und', 'Über']\n",
      "['🍕', '🚕']\n"
     ]
    }
   ],
   "source": [
    "all_words = word_tokenize(german_text)\n",
    "print(all_words)\n",
    "\n",
    "# Tokenize and print only capital words\n",
    "capital_words = r\"[A-ZÜ]\\w+\"\n",
    "print(regexp_tokenize(german_text, capital_words))\n",
    "\n",
    "# Tokenize and print only emoji\n",
    "emoji = \"['\\U0001F300-\\U0001F5FF'|'\\U0001F600-\\U0001F64F'|'\\U0001F680-\\U0001F6FF'|'\\u2600-\\u26FF\\u2700-\\u27BF']\"\n",
    "print(regexp_tokenize(german_text, emoji))"
   ]
  },
  {
   "cell_type": "markdown",
   "metadata": {
    "id": "PU3ViTt3Bg7d"
   },
   "source": [
    "Charting Word Length with NLTK"
   ]
  },
  {
   "cell_type": "code",
   "execution_count": null,
   "metadata": {
    "colab": {
     "base_uri": "https://localhost:8080/",
     "height": 499
    },
    "id": "r9CjHC-0vWOv",
    "outputId": "1caa9a7b-493e-49be-8fe4-8ad1f549ab06"
   },
   "outputs": [
    {
     "data": {
      "image/png": "[encoded data removed]",
      "text/plain": [
       "<Figure size 576x576 with 1 Axes>"
      ]
     },
     "metadata": {
      "needs_background": "light",
      "tags": []
     },
     "output_type": "display_data"
    }
   ],
   "source": [
    "import matplotlib.pyplot as plt\n",
    "\n",
    "# Split the script into lines: lines\n",
    "lines = holy_grail.split('\\n')\n",
    "\n",
    "# Replace all script lines for speaker\n",
    "pattern = \"[A-Z]{2,}(\\s)?(#\\d)?([A-Z]{2,})?:\"\n",
    "lines = [re.sub(pattern, '', l) for l in lines]\n",
    "\n",
    "# Tokenize each line: tokenized_lines\n",
    "tokenized_lines = [regexp_tokenize(s, '\\w+') for s in lines]\n",
    "\n",
    "# Make a frequency list of lengths: line_num_words\n",
    "line_num_words = [len(t_line) for t_line in tokenized_lines]\n",
    "\n",
    "# Plot a histogram of the line lengths\n",
    "plt.figure(figsize=(8,8))\n",
    "plt.hist(line_num_words);\n",
    "plt.title('# of words per line in holy_grail');"
   ]
  }
 ],
 "metadata": {
  "colab": {
   "provenance": []
  },
  "kernelspec": {
   "display_name": "Python 3",
   "language": "python",
   "name": "python3"
  },
  "language_info": {
   "codemirror_mode": {
    "name": "ipython",
    "version": 3
   },
   "file_extension": ".py",
   "mimetype": "text/x-python",
   "name": "python",
   "nbconvert_exporter": "python",
   "pygments_lexer": "ipython3",
   "version": "3.8.10"
  }
 },
 "nbformat": 4,
 "nbformat_minor": 1
}
